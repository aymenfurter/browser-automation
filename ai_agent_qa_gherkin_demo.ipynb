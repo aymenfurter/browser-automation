{
 "cells": [
  {
   "cell_type": "markdown",
   "id": "4d1178da",
   "metadata": {},
   "source": [
    "# QA Browser Automation with Azure AI Agents and Gherkin\n",
    "\n",
    "This notebook demonstrates how to use Azure AI Agents with Browser Automation for QA testing workflows:\n",
    "\n",
    "1. Define test scenarios using Gherkin syntax for clear test requirements\n",
    "2. Use Browser Automation agent to execute tests against live websites\n",
    "3. Generate automated test reports with Code Interpreter for test result analysis\n",
    "\n",
    "This approach enables QA engineers to write natural language test scenarios and have AI agents execute them automatically across different browsers and environments, improving test coverage and reducing manual testing effort."
   ]
  },
  {
   "cell_type": "code",
   "execution_count": 1,
   "id": "17d9a40d",
   "metadata": {},
   "outputs": [
    {
     "name": "stdout",
     "output_type": "stream",
     "text": [
      "Azure AI client ready\n"
     ]
    }
   ],
   "source": [
    "# Load libraries and environment\n",
    "import json\n",
    "import os\n",
    "from pathlib import Path\n",
    "from typing import Dict, List, Any\n",
    "\n",
    "from azure.identity import DefaultAzureCredential\n",
    "from azure.ai.projects import AIProjectClient\n",
    "from azure.ai.agents.models import BrowserAutomationTool, CodeInterpreterTool, MessageRole\n",
    "from dotenv import load_dotenv\n",
    "\n",
    "load_dotenv()\n",
    "PROJECT_ENDPOINT = os.environ[\"PROJECT_ENDPOINT\"]\n",
    "MODEL_DEPLOYMENT_NAME = os.environ[\"MODEL_DEPLOYMENT_NAME\"]\n",
    "BROWSER_CONNECTION_ID = os.environ[\"AZURE_PLAYWRIGHT_CONNECTION_ID\"]\n",
    "\n",
    "project_client = AIProjectClient(endpoint=PROJECT_ENDPOINT, credential=DefaultAzureCredential())\n",
    "agents_client = project_client.agents\n",
    "\n",
    "print(\"Azure AI client ready\")"
   ]
  },
  {
   "cell_type": "markdown",
   "id": "cd9b6694",
   "metadata": {},
   "source": [
    "## 1. Create the Gherkin Scenarios\n",
    "\n",
    "Each scenario spells out the expected behavior. The agent will read these files verbatim and act accordingly."
   ]
  },
  {
   "cell_type": "code",
   "execution_count": 2,
   "id": "2e34b3b2",
   "metadata": {},
   "outputs": [
    {
     "name": "stdout",
     "output_type": "stream",
     "text": [
      "Gherkin files saved to /workspaces/browser-automation/gherkin_scenarios\n"
     ]
    }
   ],
   "source": [
    "# Create simple feature files (three locations plus a fictional check)\n",
    "gherkin_dir = Path(\"/workspaces/browser-automation/gherkin_scenarios\")\n",
    "gherkin_dir.mkdir(exist_ok=True)\n",
    "\n",
    "scenarios = {\n",
    "    \"switzerland.feature\": \"\"\"Feature: Microsoft Careers – Switzerland\\n  Scenario: Count jobs in Switzerland\\n    Given I am viewing https://careers.microsoft.com/\\n    When I filter job results for the location \\\"Switzerland\\\"\\n    Then I should see a visible job count\\n    And I should note a few example job titles that appear\\n\"\"\",\n",
    "    \"germany.feature\": \"\"\"Feature: Microsoft Careers – Germany\\n  Scenario: Count jobs in Germany\\n    Given I am viewing https://careers.microsoft.com/\\n    When I filter job results for the location \\\"Germany\\\"\\n    Then I should see a visible job count\\n    And I should note whether roles span multiple cities\\n\"\"\",\n",
    "    \"latveria.feature\": \"\"\"Feature: Microsoft Careers – Latveria\\n  Scenario: Count jobs in Latveria\\n    Given I am viewing https://careers.microsoft.com/\\n    When I filter job results for the location \\\"Latveria\\\"\\n    Then I should see at least 5 job postings\\n    And I should note any warnings if the site shows none\\n\"\"\"\n",
    "}\n",
    "\n",
    "for filename, content in scenarios.items():\n",
    "    (gherkin_dir / filename).write_text(content, encoding=\"utf-8\")\n",
    "\n",
    "print(\"Gherkin files saved to\", gherkin_dir)"
   ]
  },
  {
   "cell_type": "markdown",
   "id": "0c36446b",
   "metadata": {},
   "source": [
    "## 2. Browser Automation Agent\n",
    "\n",
    "We build a single agent that always uses the Browser Automation tool and answers with a brief natural-language summary."
   ]
  },
  {
   "cell_type": "code",
   "execution_count": 3,
   "id": "a2d4ccd8",
   "metadata": {},
   "outputs": [
    {
     "name": "stdout",
     "output_type": "stream",
     "text": [
      "Browser agent: asst_iKxnbWzK6ilcHVkUDpUeDV6Q\n"
     ]
    }
   ],
   "source": [
    "# Create the browser agent\n",
    "browser_tool = BrowserAutomationTool(connection_id=BROWSER_CONNECTION_ID)\n",
    "browser_agent = agents_client.create_agent(\n",
    "    model=MODEL_DEPLOYMENT_NAME,\n",
    "    name=\"qa-browser-runner\",\n",
    "    instructions=(\n",
    "        \"You are a QA analyst. When given a Gherkin scenario, read it carefully, \"\n",
    "        \"open a fresh browser session, and follow each step in order. After you finish, \"\n",
    "        \"reply with a short plain-text report that mentions the location, the observed job \"\n",
    "        \"count (or state if none were shown), and any interesting findings. Do not return JSON.\"\n",
    "    ),\n",
    "    tools=browser_tool.definitions,\n",
    ")\n",
    "\n",
    "print(\"Browser agent:\", browser_agent.id)"
   ]
  },
  {
   "cell_type": "markdown",
   "id": "04998a7a",
   "metadata": {},
   "source": [
    "### Helper: Execute One Scenario\n",
    "\n",
    "The helper below reads a `.feature` file, sends it to the browser agent, and collects the textual response without any parsing."
   ]
  },
  {
   "cell_type": "code",
   "execution_count": 4,
   "id": "9ca6efb3",
   "metadata": {},
   "outputs": [],
   "source": [
    "def run_gherkin_scenario(feature_path: Path) -> Dict[str, Any]:\n",
    "    scenario_text = feature_path.read_text(encoding=\"utf-8\")\n",
    "    thread = agents_client.threads.create()\n",
    "    prompt = f\"\"\"\n",
    "Please execute this Gherkin scenario using Browser Automation. Once done, reply with a concise summary.\n",
    "\n",
    "{scenario_text}\n",
    "\"\"\"\n",
    "\n",
    "    agents_client.messages.create(\n",
    "        thread_id=thread.id,\n",
    "        role=MessageRole.USER,\n",
    "        content=prompt,\n",
    "    )\n",
    "\n",
    "    run = agents_client.runs.create_and_process(thread_id=thread.id, agent_id=browser_agent.id)\n",
    "\n",
    "    response = agents_client.messages.get_last_message_by_role(thread_id=thread.id, role=MessageRole.AGENT)\n",
    "    text_response = \"\\n\".join(msg.text.value for msg in response.text_messages)\n",
    "\n",
    "    return {\n",
    "        \"feature\": feature_path.name,\n",
    "        \"scenario\": scenario_text,\n",
    "        \"summary\": text_response.strip(),\n",
    "        \"threadId\": thread.id,\n",
    "        \"runId\": run.id,\n",
    "    }"
   ]
  },
  {
   "cell_type": "markdown",
   "id": "5f6805a5",
   "metadata": {},
   "source": [
    "## 3. Run the Checks\n",
    "\n",
    "We keep the runs sequential for easy reading, but you could parallelize them in practice."
   ]
  },
  {
   "cell_type": "code",
   "execution_count": 5,
   "id": "78a5a926",
   "metadata": {},
   "outputs": [
    {
     "name": "stdout",
     "output_type": "stream",
     "text": [
      "Running scenario: switzerland.feature\n",
      "Location: Switzerland — Microsoft Careers  \n",
      "Observed job count: 13  \n",
      "Example job titles seen: Enterprise Security Executive (Security Solution Sales), High Performance Computing Engineer, Principle Quantum Software Architect, Member of Technical Staff - Machine Learning, AI Safety.  \n",
      "No issues encountered; filtering and job count display work as expected.\n",
      "------------------------------------------------------------\n",
      "Running scenario: germany.feature\n",
      "Microsoft Careers site returned 38 jobs for the location \"Germany.\" Roles do span multiple cities, with many listings marked as \"Multiple Locations, Germany\" and city-specific postings for Munich, Berlin, and Frankfurt. No issues observed with filtering or visibility of job count.\n",
      "------------------------------------------------------------\n",
      "Running scenario: latveria.feature\n",
      "Location: Latveria\n",
      "Observed job count: 0\n",
      "Findings: The site displayed a \"No results\" warning, indicating there are no jobs available for Latveria.\n",
      "------------------------------------------------------------\n"
     ]
    }
   ],
   "source": [
    "results: List[Dict[str, Any]] = []\n",
    "\n",
    "for feature_name in [\"switzerland.feature\", \"germany.feature\", \"latveria.feature\"]:\n",
    "    print(f\"Running scenario: {feature_name}\")\n",
    "    outcome = run_gherkin_scenario(gherkin_dir / feature_name)\n",
    "    results.append(outcome)\n",
    "    print(outcome[\"summary\"])\n",
    "    print(\"-\" * 60)"
   ]
  },
  {
   "cell_type": "markdown",
   "id": "0732b79b",
   "metadata": {},
   "source": [
    "## 4. Let Code Interpreter Build the Report\n",
    "\n",
    "We now ask a second agent to read the raw summaries and generate a simple Excel workbook (no parsing on our side)."
   ]
  },
  {
   "cell_type": "code",
   "execution_count": 6,
   "id": "839c50f7",
   "metadata": {},
   "outputs": [
    {
     "name": "stdout",
     "output_type": "stream",
     "text": [
      "Report agent run status: RunStatus.COMPLETED\n",
      "Saved report to /workspaces/browser-automation/reports/qa-browser-results.xlsx\n",
      "\n",
      "Report highlights:\n",
      " Thank you! I'll process these notes and create the requested `qa-browser-results.xlsx` workbook.  \n",
      "Here is how each row will be summarized for the Results sheet:\n",
      "\n",
      "| Feature          | Pass/Fail | Warnings/Errors                | Tester Notes                                                    | Job Count | Location(s)         | Example Roles                                    |\n",
      "|------------------|-----------|-------------------------------|------------------------------------------------------------------|-----------|---------------------|-------------------------------------------------|\n",
      "| switzerland.feature | Pass      | None                          | Filtering and job count display work as expected.                | 13        | Switzerland         | Enterprise Security Executive, ...               |\n",
      "| germany.feature     | Pass      | None                          | Roles span multiple cities (e.g., Munich, Berlin, Frankfurt).    | 38        | Germany             | Multiple Locations, Germany                      |\n",
      "| latveria.feature    | Fail      | \"No results\" warning displayed| No jobs available for Latveria.                                  | 0         | Latveria            |                                                 |\n",
      "\n",
      "Let's generate the Excel file according to these details.\n"
     ]
    }
   ],
   "source": [
    "# Create reporting agent with Code Interpreter\n",
    "report_tool = CodeInterpreterTool()\n",
    "from datetime import datetime\n",
    "current_time = datetime.now().strftime(\"%Y-%m-%d %H:%M:%S\")\n",
    "\n",
    "report_agent = agents_client.create_agent(\n",
    "    model=MODEL_DEPLOYMENT_NAME,\n",
    "    name=\"qa-report-writer\",\n",
    "    instructions=(\n",
    "        \"You turn QA observations into polished reports. Read the provided test summaries and \"\n",
    "        \"produce an Excel workbook called qa-browser-results.xlsx with one sheet named Results. \"\n",
    "        \"Include columns (Add 1-3 additional for more KPIs columns as needed) Feature,Pass/Fail,Warnings/Errors,Tester Notes\"\n",
    "        \"\\n current time: \" + current_time\n",
    "    ),\n",
    "    tools=report_tool.definitions,\n",
    "    tool_resources=report_tool.resources,\n",
    ")\n",
    "\n",
    "thread = agents_client.threads.create()\n",
    "payload = json.dumps(results, indent=2)\n",
    "prompt = (\n",
    "    \"Here are the raw QA notes from the browser agent. Please create the Excel file as requested.\\n\\n\"\n",
    "    f\"```json\\n{payload}\\n```\"\n",
    ")\n",
    "\n",
    "agents_client.messages.create(thread_id=thread.id, role=MessageRole.USER, content=prompt)\n",
    "run = agents_client.runs.create_and_process(thread_id=thread.id, agent_id=report_agent.id)\n",
    "print(\"Report agent run status:\", run.status)\n",
    "\n",
    "# Download the generated workbook\n",
    "report_file_id = None\n",
    "summary_text = \"\"\n",
    "for message in agents_client.messages.list(thread_id=thread.id):\n",
    "    if message.role == MessageRole.AGENT:\n",
    "        if message.text_messages:\n",
    "            summary_text = \"\\n\".join(txt.text.value for txt in message.text_messages)\n",
    "        if message.file_path_annotations:\n",
    "            report_file_id = message.file_path_annotations[0].file_path.file_id\n",
    "\n",
    "reports_dir = Path(\"/workspaces/browser-automation/reports\")\n",
    "reports_dir.mkdir(exist_ok=True)\n",
    "report_path = reports_dir / \"qa-browser-results.xlsx\"\n",
    "\n",
    "if report_file_id:\n",
    "    agents_client.files.save(file_id=report_file_id, file_name=str(report_path))\n",
    "    print(\"Saved report to\", report_path)\n",
    "if summary_text:\n",
    "    print(\"\\nReport highlights:\\n\", summary_text)"
   ]
  },
  {
   "cell_type": "markdown",
   "id": "5f5ff95d",
   "metadata": {},
   "source": [
    "## 5. Clean Up Agents\n",
    "\n",
    "Always delete the temporary agents when the run is complete."
   ]
  },
  {
   "cell_type": "code",
   "execution_count": 7,
   "id": "eae24c6f",
   "metadata": {},
   "outputs": [
    {
     "name": "stdout",
     "output_type": "stream",
     "text": [
      "Notebook finished. Agents removed.\n"
     ]
    }
   ],
   "source": [
    "agents_client.delete_agent(browser_agent.id)\n",
    "agents_client.delete_agent(report_agent.id)\n",
    "project_client.close()\n",
    "\n",
    "print(\"Notebook finished. Agents removed.\")"
   ]
  },
  {
   "cell_type": "markdown",
   "id": "4de63f36",
   "metadata": {},
   "source": [
    "## Wrap-up\n",
    "\n",
    "- **Scenarios live only in Gherkin files** – change expectations by editing text, no code updates needed.\n",
    "- **Browser agent** executes instructions and reports observations without rigid parsing.\n",
    "- **Reporting agent** turns the free-form notes into an Excel artifact and highlight summary.\n",
    "\n",
    "This pattern is ideal for exploratory QA sweeps where you want quick coverage with minimum overhead."
   ]
  }
 ],
 "metadata": {
  "kernelspec": {
   "display_name": "Python 3",
   "language": "python",
   "name": "python3"
  },
  "language_info": {
   "codemirror_mode": {
    "name": "ipython",
    "version": 3
   },
   "file_extension": ".py",
   "mimetype": "text/x-python",
   "name": "python",
   "nbconvert_exporter": "python",
   "pygments_lexer": "ipython3",
   "version": "3.12.11"
  }
 },
 "nbformat": 4,
 "nbformat_minor": 5
}
